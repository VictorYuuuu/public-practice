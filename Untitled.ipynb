{
  "nbformat": 4,
  "nbformat_minor": 0,
  "metadata": {
    "colab": {
      "provenance": [],
      "authorship_tag": "ABX9TyOThRvL31JkwOXCBIpy+G5D",
      "include_colab_link": true
    },
    "kernelspec": {
      "name": "python3",
      "display_name": "Python 3"
    },
    "language_info": {
      "name": "python"
    }
  },
  "cells": [
    {
      "cell_type": "markdown",
      "metadata": {
        "id": "view-in-github",
        "colab_type": "text"
      },
      "source": [
        "<a href=\"https://colab.research.google.com/github/VictorYuuuu/public-practice/blob/main/Untitled.ipynb\" target=\"_parent\"><img src=\"https://colab.research.google.com/assets/colab-badge.svg\" alt=\"Open In Colab\"/></a>"
      ]
    },
    {
      "cell_type": "code",
      "source": [
        "print(\"google colab is always the god\")\n",
        "number = input()\n",
        "number = int(number)\n",
        "if number>=0 :print(\"chatgpt is also a coding god\\n\");   \n",
        "\n",
        "\n",
        "\n"
      ],
      "metadata": {
        "id": "g76s_k8wa7L1",
        "colab": {
          "base_uri": "https://localhost:8080/"
        },
        "outputId": "ebe8c72c-9d8e-4fd8-c41b-39a6d29c8c1c"
      },
      "execution_count": 4,
      "outputs": [
        {
          "output_type": "stream",
          "name": "stdout",
          "text": [
            "google colab is always the god\n",
            "20\n",
            "chatgpt is also a coding god\n",
            "\n"
          ]
        }
      ]
    }
  ]
}